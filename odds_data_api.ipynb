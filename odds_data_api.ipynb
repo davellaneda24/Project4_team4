{
 "cells": [
  {
   "cell_type": "code",
   "execution_count": 2,
   "metadata": {},
   "outputs": [],
   "source": [
    "# 1 Importing Dependencies\n",
    " \n",
    "import pandas as pd\n",
    "import requests\n",
    "import json\n",
    "import sys\n",
    "from pymongo import MongoClient\n",
    "sys.path.append('/Users/tokar/UNC_DA/MY_WORK/Personal_Code')\n",
    "from my_api_config import odds_api_key\n",
    "from datetime import datetime, timedelta\n",
    "import time"
   ]
  },
  {
   "cell_type": "code",
   "execution_count": 7,
   "metadata": {},
   "outputs": [
    {
     "name": "stdout",
     "output_type": "stream",
     "text": [
      "['2021-08-01T00:00:00Z', '2021-08-02T00:00:00Z', '2021-08-03T00:00:00Z', '2021-08-04T00:00:00Z', '2021-08-05T00:00:00Z', '2021-08-06T00:00:00Z', '2021-08-07T00:00:00Z', '2021-08-08T00:00:00Z', '2021-08-09T00:00:00Z', '2021-08-10T00:00:00Z']\n"
     ]
    }
   ],
   "source": [
    "start_date_2021 = datetime(2021, 8, 1)\n",
    "end_date_2021 = datetime(2021, 12, 31)\n",
    "\n",
    "# Create a list to hold the dates\n",
    "date_list_2021 = []\n",
    "\n",
    "# Loop through each day from start_date to end_date\n",
    "current_date = start_date_2021\n",
    "while current_date <= end_date_2021:\n",
    "    # Append the current date in ISO format to the list\n",
    "    date_list_2021.append(current_date.strftime('%Y-%m-%dT%H:%M:%SZ'))\n",
    "    # Move to the next day\n",
    "    current_date += timedelta(days=1)\n",
    "\n",
    "# Print the first few dates to verify\n",
    "print(date_list_2021[:10])"
   ]
  },
  {
   "cell_type": "code",
   "execution_count": 9,
   "metadata": {},
   "outputs": [
    {
     "name": "stdout",
     "output_type": "stream",
     "text": [
      "['2022-01-01T00:00:00Z', '2022-01-02T00:00:00Z', '2022-01-03T00:00:00Z', '2022-01-04T00:00:00Z', '2022-01-05T00:00:00Z', '2022-01-06T00:00:00Z', '2022-01-07T00:00:00Z', '2022-01-08T00:00:00Z', '2022-01-09T00:00:00Z', '2022-01-10T00:00:00Z']\n"
     ]
    }
   ],
   "source": [
    "start_date_2022 = datetime(2022, 1, 1)\n",
    "end_date_2022 = datetime(2022, 12, 31)\n",
    "\n",
    "# Create a list to hold the dates\n",
    "date_list_2022 = []\n",
    "\n",
    "# Loop through each day from start_date to end_date\n",
    "current_date = start_date_2022\n",
    "while current_date <= end_date_2022:\n",
    "    # Append the current date in ISO format to the list\n",
    "    date_list_2022.append(current_date.strftime('%Y-%m-%dT%H:%M:%SZ'))\n",
    "    # Move to the next day\n",
    "    current_date += timedelta(days=1)\n",
    "\n",
    "# Print the first few dates to verify\n",
    "print(date_list_2022[:10])"
   ]
  },
  {
   "cell_type": "code",
   "execution_count": 13,
   "metadata": {},
   "outputs": [
    {
     "name": "stdout",
     "output_type": "stream",
     "text": [
      "['2023-01-01T00:00:00Z', '2023-01-02T00:00:00Z', '2023-01-03T00:00:00Z', '2023-01-04T00:00:00Z', '2023-01-05T00:00:00Z', '2023-01-06T00:00:00Z', '2023-01-07T00:00:00Z', '2023-01-08T00:00:00Z', '2023-01-09T00:00:00Z', '2023-01-10T00:00:00Z']\n"
     ]
    }
   ],
   "source": [
    "start_date_2023 = datetime(2023, 1, 1)\n",
    "end_date_2023 = datetime(2023, 12, 31)\n",
    "\n",
    "# Create a list to hold the dates\n",
    "date_list_2023 = []\n",
    "\n",
    "# Loop through each day from start_date to end_date\n",
    "current_date = start_date_2023\n",
    "while current_date <= end_date_2023:\n",
    "    # Append the current date in ISO format to the list\n",
    "    date_list_2023.append(current_date.strftime('%Y-%m-%dT%H:%M:%SZ'))\n",
    "    # Move to the next day\n",
    "    current_date += timedelta(days=1)\n",
    "\n",
    "# Print the first few dates to verify\n",
    "print(date_list_2023[:10])"
   ]
  },
  {
   "cell_type": "code",
   "execution_count": 17,
   "metadata": {},
   "outputs": [
    {
     "name": "stdout",
     "output_type": "stream",
     "text": [
      "['2024-01-01T00:00:00Z', '2024-01-02T00:00:00Z', '2024-01-03T00:00:00Z', '2024-01-04T00:00:00Z', '2024-01-05T00:00:00Z', '2024-01-06T00:00:00Z', '2024-01-07T00:00:00Z', '2024-01-08T00:00:00Z', '2024-01-09T00:00:00Z', '2024-01-10T00:00:00Z']\n"
     ]
    }
   ],
   "source": [
    "start_date_2024 = datetime(2024, 1, 1)\n",
    "end_date_2024 = datetime(2024, 5, 31)\n",
    "\n",
    "# Create a list to hold the dates\n",
    "date_list_2024 = []\n",
    "\n",
    "# Loop through each day from start_date to end_date\n",
    "current_date = start_date_2024\n",
    "while current_date <= end_date_2024:\n",
    "    # Append the current date in ISO format to the list\n",
    "    date_list_2024.append(current_date.strftime('%Y-%m-%dT%H:%M:%SZ'))\n",
    "    # Move to the next day\n",
    "    current_date += timedelta(days=1)\n",
    "\n",
    "# Print the first few dates to verify\n",
    "print(date_list_2024[:10])"
   ]
  },
  {
   "cell_type": "code",
   "execution_count": 19,
   "metadata": {},
   "outputs": [
    {
     "data": {
      "text/plain": [
       "152"
      ]
     },
     "execution_count": 19,
     "metadata": {},
     "output_type": "execute_result"
    }
   ],
   "source": [
    "len(date_list_2024)"
   ]
  },
  {
   "cell_type": "code",
   "execution_count": 20,
   "metadata": {},
   "outputs": [
    {
     "name": "stdout",
     "output_type": "stream",
     "text": [
      "Finished fetching and inserting data.\n"
     ]
    }
   ],
   "source": [
    "# 2 API Calling in Events information\n",
    "\n",
    "# Establishing MongoDB Connection\n",
    "mongo = MongoClient(\"mongodb://localhost:27017/\")\n",
    "db = mongo[\"nba_data\"]\n",
    "collection = db[\"odds_events\"]\n",
    "\n",
    "\n",
    "url_base = \"https://api.the-odds-api.com\"\n",
    "commenceTimeStart = \"2021-08-01T12:00:00Z\"\n",
    "commenceTimeEnd = \"2024-05-21T12:00:00Z\"\n",
    "\n",
    "for date in date_list_2024:\n",
    "    end_point_base = f\"/v4/historical/sports/basketball_nba/events?apiKey={odds_api_key}&date={date}&commenceTimeFrom={commenceTimeStart}&commenceTimeTo={commenceTimeEnd}\"\n",
    "    query_url = url_base + end_point_base\n",
    "\n",
    "    response = requests.get(query_url)\n",
    "\n",
    "    if response.status_code == 200:\n",
    "        response_data = response.json()\n",
    "        if 'data' in response_data:\n",
    "            for event in response_data['data']:\n",
    "                collection.insert_one(event)\n",
    "        else:\n",
    "            print(f\"No data found for date: {date}\")\n",
    "            \n",
    "    else:\n",
    "        print(f\"Failed to fetch data for date: {date}. Staus code: {response.status_code}\")\n",
    "\n",
    "print(\"Finished fetching and inserting data.\")"
   ]
  },
  {
   "cell_type": "code",
   "execution_count": 6,
   "metadata": {},
   "outputs": [
    {
     "name": "stdout",
     "output_type": "stream",
     "text": [
      "https://api.the-odds-api.com/v4/historical/sports/basketball_nba/events?apiKey=6b10fa8f13412e76b364af85711c2cf1&date=2021-08-31T00:00:00Z&commenceTimeFrom=2021-08-01T12:00:00Z&commenceTimeTo=2021-12-31T12:00:00Z\n"
     ]
    }
   ],
   "source": [
    "print(query_url)"
   ]
  }
 ],
 "metadata": {
  "kernelspec": {
   "display_name": "dev",
   "language": "python",
   "name": "python3"
  },
  "language_info": {
   "codemirror_mode": {
    "name": "ipython",
    "version": 3
   },
   "file_extension": ".py",
   "mimetype": "text/x-python",
   "name": "python",
   "nbconvert_exporter": "python",
   "pygments_lexer": "ipython3",
   "version": "3.10.13"
  }
 },
 "nbformat": 4,
 "nbformat_minor": 2
}
