{
 "cells": [
  {
   "cell_type": "markdown",
   "id": "4a1f23c2",
   "metadata": {},
   "source": [
    "# Import dependencies and get data"
   ]
  },
  {
   "cell_type": "code",
   "execution_count": 2,
   "id": "9ced45b9",
   "metadata": {},
   "outputs": [],
   "source": [
    "# import dependencies\n",
    "import matplotlib.pyplot as plt\n",
    "import pandas as pd\n",
    "from sklearn.model_selection import train_test_split\n",
    "from sklearn.linear_model import LogisticRegression\n",
    "from sklearn.metrics import accuracy_score"
   ]
  },
  {
   "cell_type": "code",
   "execution_count": 3,
   "id": "4d745bc5",
   "metadata": {},
   "outputs": [
    {
     "data": {
      "text/html": [
       "<div>\n",
       "<style scoped>\n",
       "    .dataframe tbody tr th:only-of-type {\n",
       "        vertical-align: middle;\n",
       "    }\n",
       "\n",
       "    .dataframe tbody tr th {\n",
       "        vertical-align: top;\n",
       "    }\n",
       "\n",
       "    .dataframe thead th {\n",
       "        text-align: right;\n",
       "    }\n",
       "</style>\n",
       "<table border=\"1\" class=\"dataframe\">\n",
       "  <thead>\n",
       "    <tr style=\"text-align: right;\">\n",
       "      <th></th>\n",
       "      <th>Home_Team</th>\n",
       "      <th>Away_Team</th>\n",
       "      <th>Home_Score</th>\n",
       "      <th>Away_Score</th>\n",
       "      <th>Rebounds</th>\n",
       "      <th>Assists</th>\n",
       "      <th>Blocks</th>\n",
       "      <th>Total_Score</th>\n",
       "      <th>Line</th>\n",
       "      <th>Over_Under</th>\n",
       "      <th>Bet</th>\n",
       "      <th>Met_Not_Met</th>\n",
       "    </tr>\n",
       "  </thead>\n",
       "  <tbody>\n",
       "    <tr>\n",
       "      <th>0</th>\n",
       "      <td>Atlanta Hawks</td>\n",
       "      <td>Washington Wizards</td>\n",
       "      <td>110</td>\n",
       "      <td>110</td>\n",
       "      <td>43</td>\n",
       "      <td>23</td>\n",
       "      <td>6</td>\n",
       "      <td>220</td>\n",
       "      <td>232</td>\n",
       "      <td>1</td>\n",
       "      <td>1</td>\n",
       "      <td>1</td>\n",
       "    </tr>\n",
       "    <tr>\n",
       "      <th>1</th>\n",
       "      <td>Boston Celtics</td>\n",
       "      <td>Utah Jazz</td>\n",
       "      <td>105</td>\n",
       "      <td>115</td>\n",
       "      <td>51</td>\n",
       "      <td>25</td>\n",
       "      <td>3</td>\n",
       "      <td>220</td>\n",
       "      <td>216</td>\n",
       "      <td>0</td>\n",
       "      <td>0</td>\n",
       "      <td>1</td>\n",
       "    </tr>\n",
       "    <tr>\n",
       "      <th>2</th>\n",
       "      <td>Brooklyn Nets</td>\n",
       "      <td>Toronto Raptors</td>\n",
       "      <td>113</td>\n",
       "      <td>104</td>\n",
       "      <td>55</td>\n",
       "      <td>26</td>\n",
       "      <td>4</td>\n",
       "      <td>217</td>\n",
       "      <td>208</td>\n",
       "      <td>1</td>\n",
       "      <td>0</td>\n",
       "      <td>0</td>\n",
       "    </tr>\n",
       "    <tr>\n",
       "      <th>3</th>\n",
       "      <td>Charlotte Hornets</td>\n",
       "      <td>San Antonio Spurs</td>\n",
       "      <td>100</td>\n",
       "      <td>95</td>\n",
       "      <td>42</td>\n",
       "      <td>30</td>\n",
       "      <td>2</td>\n",
       "      <td>195</td>\n",
       "      <td>193</td>\n",
       "      <td>1</td>\n",
       "      <td>1</td>\n",
       "      <td>1</td>\n",
       "    </tr>\n",
       "    <tr>\n",
       "      <th>4</th>\n",
       "      <td>Chicago Bulls</td>\n",
       "      <td>Sacramento Kings</td>\n",
       "      <td>103</td>\n",
       "      <td>109</td>\n",
       "      <td>43</td>\n",
       "      <td>25</td>\n",
       "      <td>5</td>\n",
       "      <td>212</td>\n",
       "      <td>193</td>\n",
       "      <td>0</td>\n",
       "      <td>1</td>\n",
       "      <td>0</td>\n",
       "    </tr>\n",
       "  </tbody>\n",
       "</table>\n",
       "</div>"
      ],
      "text/plain": [
       "           Home_Team           Away_Team  Home_Score  Away_Score  Rebounds  \\\n",
       "0      Atlanta Hawks  Washington Wizards         110         110        43   \n",
       "1     Boston Celtics           Utah Jazz         105         115        51   \n",
       "2      Brooklyn Nets     Toronto Raptors         113         104        55   \n",
       "3  Charlotte Hornets   San Antonio Spurs         100          95        42   \n",
       "4      Chicago Bulls    Sacramento Kings         103         109        43   \n",
       "\n",
       "   Assists  Blocks  Total_Score  Line  Over_Under  Bet  Met_Not_Met  \n",
       "0       23       6          220   232           1    1            1  \n",
       "1       25       3          220   216           0    0            1  \n",
       "2       26       4          217   208           1    0            0  \n",
       "3       30       2          195   193           1    1            1  \n",
       "4       25       5          212   193           0    1            0  "
      ]
     },
     "execution_count": 3,
     "metadata": {},
     "output_type": "execute_result"
    }
   ],
   "source": [
    "# get data\n",
    "df = pd.read_csv(\"fake_data.csv\")\n",
    "df.head()"
   ]
  },
  {
   "cell_type": "markdown",
   "id": "fd34cff9",
   "metadata": {},
   "source": [
    "# Split data into training and testing"
   ]
  },
  {
   "cell_type": "code",
   "execution_count": null,
   "id": "3d7af007",
   "metadata": {},
   "outputs": [],
   "source": [
    "X_train, X_test, y_train, y_test = train_test_split(X,y,random_state=1,stratify=y)"
   ]
  },
  {
   "cell_type": "markdown",
   "id": "e192bac5",
   "metadata": {},
   "source": [
    "# Create the logistic regression model"
   ]
  },
  {
   "cell_type": "code",
   "execution_count": null,
   "id": "e4dbcae8",
   "metadata": {},
   "outputs": [],
   "source": [
    "classifier = LogisticRegression(solver='lbfgs', random_state=1)\n",
    "classifier"
   ]
  },
  {
   "cell_type": "markdown",
   "id": "1c7e3165",
   "metadata": {},
   "source": [
    "# Fit the model using the training data"
   ]
  },
  {
   "cell_type": "code",
   "execution_count": null,
   "id": "93e5e896",
   "metadata": {},
   "outputs": [],
   "source": [
    "# Train the data\n",
    "classifier.fit(X_train, y_train)"
   ]
  },
  {
   "cell_type": "markdown",
   "id": "24c4664a",
   "metadata": {},
   "source": [
    "# Validate the model using the testing data"
   ]
  },
  {
   "cell_type": "code",
   "execution_count": null,
   "id": "2e6ec84b",
   "metadata": {},
   "outputs": [],
   "source": [
    "# Score the model\n",
    "print(f\"Training Data Score: {classifier.score(X_train, y_train)}\")\n",
    "print(f\"Testing Data Score: {classifier.score(X_test, y_test)}\")"
   ]
  },
  {
   "cell_type": "markdown",
   "id": "96462261",
   "metadata": {},
   "source": [
    "# Make predictions"
   ]
  },
  {
   "cell_type": "code",
   "execution_count": null,
   "id": "a163f047",
   "metadata": {},
   "outputs": [],
   "source": [
    "# Predict outcomes for test data set\n",
    "predictions = classifier.predict(X_test)\n",
    "pd.DataFrame({\"Prediction\": predictions, \"Actual\": y_test})"
   ]
  },
  {
   "cell_type": "markdown",
   "id": "91abbb73",
   "metadata": {},
   "source": [
    "# Calculate the accuracy score"
   ]
  },
  {
   "cell_type": "code",
   "execution_count": null,
   "id": "9c529eac",
   "metadata": {},
   "outputs": [],
   "source": [
    "# Display the accuracy score for the test dataset.\n",
    "accuracy_score(y_test, predictions)"
   ]
  },
  {
   "cell_type": "markdown",
   "id": "04ecf7f5",
   "metadata": {},
   "source": [
    "# Make a prediction with a new data point"
   ]
  },
  {
   "cell_type": "code",
   "execution_count": null,
   "id": "0c3afdc2",
   "metadata": {},
   "outputs": [],
   "source": [
    "# Generate a new data point (the red circle)\n",
    "import numpy as np\n",
    "new_data = np.array([[-2, 6]])\n",
    "plt.scatter(X[:, 0], X[:, 1], c=y)\n",
    "plt.scatter(new_data[0, 0], new_data[0, 1], c=\"r\", marker=\"o\", s=100)"
   ]
  },
  {
   "cell_type": "code",
   "execution_count": null,
   "id": "c749ed4c",
   "metadata": {},
   "outputs": [],
   "source": [
    "# Predict the class (purple or yellow) of the new data point\n",
    "new_prediction = classifier.predict(new_data)\n",
    "print(\"Classes are either 0 (purple) or 1 (yellow)\")\n",
    "print(f\"The new point was classified as: {new_prediction}\")"
   ]
  }
 ],
 "metadata": {
  "kernelspec": {
   "display_name": "Python 3 (ipykernel)",
   "language": "python",
   "name": "python3"
  },
  "language_info": {
   "codemirror_mode": {
    "name": "ipython",
    "version": 3
   },
   "file_extension": ".py",
   "mimetype": "text/x-python",
   "name": "python",
   "nbconvert_exporter": "python",
   "pygments_lexer": "ipython3",
   "version": "3.11.5"
  }
 },
 "nbformat": 4,
 "nbformat_minor": 5
}
